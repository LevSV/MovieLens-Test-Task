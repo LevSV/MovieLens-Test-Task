{
 "cells": [
  {
   "cell_type": "markdown",
   "metadata": {},
   "source": [
    "Часть кода взята из https://github.com/SarangDeshmukh7/Recommendation-Engine/blob/master/Content_Based_Filtering.ipynb"
   ]
  },
  {
   "cell_type": "markdown",
   "metadata": {},
   "source": [
    "# Коллаборативная модель\n",
    "Модель предсказывает какую оценку пользователь поставит фильму, которого он еще не видел. Полученная метрика RMSE равна 0.7783"
   ]
  },
  {
   "cell_type": "code",
   "execution_count": 29,
   "metadata": {},
   "outputs": [],
   "source": [
    "from surprise import SVD\n",
    "from surprise import Dataset\n",
    "from surprise import Reader\n",
    "from surprise.model_selection import train_test_split\n",
    "from surprise import accuracy\n",
    "import numpy as np \n",
    "import pandas as pd \n",
    "from tqdm import tqdm\n",
    "from gensim.models import Word2Vec \n",
    "import matplotlib.pyplot as plt\n",
    "from collections import defaultdict\n",
    "import warnings;\n",
    "warnings.filterwarnings('ignore')"
   ]
  },
  {
   "cell_type": "markdown",
   "metadata": {},
   "source": [
    "Чтение из файла и создание тренировочного и тестового сета"
   ]
  },
  {
   "cell_type": "code",
   "execution_count": 2,
   "metadata": {},
   "outputs": [],
   "source": [
    "reader = Reader(line_format='user item rating timestamp', sep=',', rating_scale=(0.5, 5), skip_lines=1)\n",
    "data = Dataset.load_from_file('rating.csv', reader)"
   ]
  },
  {
   "cell_type": "code",
   "execution_count": 3,
   "metadata": {},
   "outputs": [],
   "source": [
    "trainset, testset = train_test_split(data, test_size=0.05)"
   ]
  },
  {
   "cell_type": "code",
   "execution_count": 4,
   "metadata": {},
   "outputs": [
    {
     "name": "stdout",
     "output_type": "stream",
     "text": [
      "RMSE: 0.7783\n"
     ]
    },
    {
     "data": {
      "text/plain": [
       "0.7783432170839514"
      ]
     },
     "execution_count": 4,
     "metadata": {},
     "output_type": "execute_result"
    }
   ],
   "source": [
    "algo = SVD()\n",
    "algo.fit(trainset)\n",
    "predictions = algo.test(testset)\n",
    "accuracy.rmse(predictions)"
   ]
  },
  {
   "cell_type": "markdown",
   "metadata": {},
   "source": [
    "# Контентная модель\n",
    "Модель предсказывает похожие фильмы. Метрики нет по причине, объясненной ранее"
   ]
  },
  {
   "cell_type": "code",
   "execution_count": 6,
   "metadata": {},
   "outputs": [],
   "source": [
    "df_movies = pd.read_csv('movie.csv')\n",
    "df_ratings = pd.read_csv('rating.csv')"
   ]
  },
  {
   "cell_type": "code",
   "execution_count": 7,
   "metadata": {},
   "outputs": [],
   "source": [
    "df = pd.merge(df_movies,df_ratings)\n",
    "df.dropna(inplace=True)\n",
    "df['movieId']= df['movieId'].astype(str)\n",
    "users = df[\"userId\"].unique().tolist()"
   ]
  },
  {
   "cell_type": "code",
   "execution_count": 15,
   "metadata": {},
   "outputs": [
    {
     "name": "stderr",
     "output_type": "stream",
     "text": [
      "100%|████████████████████████████████████████████████████████████████████████| 138493/138493 [1:00:25<00:00, 38.20it/s]\n"
     ]
    }
   ],
   "source": [
    "#list to capture watch history of the users\n",
    "watch_train = []\n",
    "\n",
    "# populate the list with the movie ID\n",
    "for i in tqdm(users):\n",
    "    temp = df[df[\"userId\"] == i][\"movieId\"].tolist()\n",
    "    watch_train.append(temp)"
   ]
  },
  {
   "cell_type": "code",
   "execution_count": 16,
   "metadata": {},
   "outputs": [
    {
     "data": {
      "text/plain": [
       "(199402934, 200002630)"
      ]
     },
     "execution_count": 16,
     "metadata": {},
     "output_type": "execute_result"
    }
   ],
   "source": [
    "model = Word2Vec(window = 10, sg = 1, hs = 0,\n",
    "                 negative = 10, \n",
    "                 alpha=0.03, min_alpha=0.0007,\n",
    "                 seed = 14)\n",
    "\n",
    "model.build_vocab(watch_train, progress_per=200)\n",
    "\n",
    "model.train(watch_train, total_examples = model.corpus_count, \n",
    "            epochs=10, report_delay=1)"
   ]
  },
  {
   "cell_type": "code",
   "execution_count": 17,
   "metadata": {},
   "outputs": [],
   "source": [
    "watch = df[[\"movieId\", \"title\"]]\n",
    "\n",
    "# remove duplicates\n",
    "watch.drop_duplicates(inplace=True, subset='movieId', keep=\"last\")\n",
    "\n",
    "# create movie id and tittle dictionary\n",
    "watch_dict = watch.groupby('movieId')['title'].apply(list).to_dict()"
   ]
  },
  {
   "cell_type": "code",
   "execution_count": 22,
   "metadata": {},
   "outputs": [],
   "source": [
    "def similar_watch(v, n = 6):\n",
    "    \n",
    "    # extract most similar movies for the input vector\n",
    "    ms = model.wv.similar_by_vector(v, topn= n+1)[1:]\n",
    "    \n",
    "    # extract name and similarity score of the similar movies\n",
    "    new_ms = []\n",
    "    for j in ms:\n",
    "        pair = (watch_dict[j[0]][0], j[1])\n",
    "        new_ms.append(pair)\n",
    "        \n",
    "    return new_ms"
   ]
  },
  {
   "cell_type": "markdown",
   "metadata": {},
   "source": [
    "Пример работы модели на фильме \"Железный человек 3\""
   ]
  },
  {
   "cell_type": "code",
   "execution_count": 45,
   "metadata": {},
   "outputs": [
    {
     "name": "stdout",
     "output_type": "stream",
     "text": [
      "['Iron Man 3 (2013)']\n"
     ]
    },
    {
     "data": {
      "text/plain": [
       "[('Star Trek Into Darkness (2013)', 0.9243887066841125),\n",
       " ('Man of Steel (2013)', 0.9156004786491394),\n",
       " ('Oblivion (2013)', 0.9052060842514038),\n",
       " ('Thor: Tales of Asgard (2011)', 0.8952834010124207),\n",
       " ('Now You See Me (2013)', 0.8940366506576538),\n",
       " ('Iron Man: Rise Of Technovore (2013)', 0.8910979628562927)]"
      ]
     },
     "execution_count": 45,
     "metadata": {},
     "output_type": "execute_result"
    }
   ],
   "source": [
    "print(watch_dict['102125'])\n",
    "similar_watch(model.wv['102125'])"
   ]
  },
  {
   "cell_type": "markdown",
   "metadata": {},
   "source": [
    "# Гибридная модель\n",
    "Сначала для пользователя подбирается рейтинг фильмов, которым он мог бы поставить максимальный балл, затем к каждому из этих фильмов добавляются похожие на него и выводится общий список"
   ]
  },
  {
   "cell_type": "code",
   "execution_count": 50,
   "metadata": {},
   "outputs": [],
   "source": [
    "movie_ids = df[\"movieId\"].unique().tolist()"
   ]
  },
  {
   "cell_type": "code",
   "execution_count": 109,
   "metadata": {},
   "outputs": [],
   "source": [
    "def return_top_movies(Id, k1, k2):\n",
    "    \"\"\"\n",
    "    Args:\n",
    "        k1(int) - number of top movies from collaborative model\n",
    "        k2(int) - number of top movies from content-based model\n",
    "\n",
    "    Returns:\n",
    "    A list of k1*k2 recommended movies with similarity score\n",
    "    \"\"\"\n",
    "\n",
    "    def return_second_value_of_set(some_set):\n",
    "        return some_set[1]\n",
    "    lst = []\n",
    "    lst_rating = []\n",
    "    for i in movie_ids:\n",
    "        lst_rating.append((i,algo.predict(str(Id), i)[3]))    \n",
    "    lst_rating = sorted(lst_rating, key=return_second_value_of_set, reverse=True)[:k1]    \n",
    "    for i in collaborative_top:\n",
    "        lst.append(similar_watch(model.wv[i[0]], k2))\n",
    "    return lst"
   ]
  },
  {
   "cell_type": "markdown",
   "metadata": {},
   "source": [
    "Пример для пользователя с Id=5, три фильма выбраны из коллаборативной модели, затем к каждому из этих 3-х фильмов добавляются по три похожих фильма. Фильмы из коллаборативной модели не выводятся"
   ]
  },
  {
   "cell_type": "code",
   "execution_count": 110,
   "metadata": {},
   "outputs": [
    {
     "data": {
      "text/plain": [
       "[[('Pianist, The (2002)', 0.6864071488380432),\n",
       "  ('My Neighbor Totoro (Tonari no Totoro) (1988)', 0.6775856614112854),\n",
       "  ('Monty Python Live at the Hollywood Bowl (1982)', 0.6604493856430054)],\n",
       " [('Prime Suspect 2 (1992)', 0.9227423071861267),\n",
       "  ('Hit, The (1984)', 0.918782114982605),\n",
       "  ('Whales of August, The (1987)', 0.9100519418716431)],\n",
       " [('Gladiator (1992)', 0.6853943467140198),\n",
       "  ('Band of Brothers (2001)', 0.6683748960494995),\n",
       "  ('Nausicaä of the Valley of the Wind (Kaze no tani no Naushika) (1984)',\n",
       "   0.6599408388137817)]]"
      ]
     },
     "execution_count": 110,
     "metadata": {},
     "output_type": "execute_result"
    }
   ],
   "source": [
    "return_top_movies(Id=5, k1=3, k2=3)"
   ]
  },
  {
   "cell_type": "code",
   "execution_count": null,
   "metadata": {},
   "outputs": [],
   "source": []
  }
 ],
 "metadata": {
  "kernelspec": {
   "display_name": "Python 3",
   "language": "python",
   "name": "python3"
  },
  "language_info": {
   "codemirror_mode": {
    "name": "ipython",
    "version": 3
   },
   "file_extension": ".py",
   "mimetype": "text/x-python",
   "name": "python",
   "nbconvert_exporter": "python",
   "pygments_lexer": "ipython3",
   "version": "3.7.6"
  }
 },
 "nbformat": 4,
 "nbformat_minor": 4
}
